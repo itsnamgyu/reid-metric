{
 "cells": [
  {
   "cell_type": "code",
   "execution_count": null,
   "metadata": {},
   "outputs": [],
   "source": [
    "import data\n",
    "import torch\n",
    "from utils.distmat import *\n",
    "from utils.evaluation import *\n",
    "from hitl import *\n",
    "import numpy as np\n",
    "import matplotlib.pyplot as plt"
   ]
  },
  {
   "cell_type": "markdown",
   "metadata": {},
   "source": [
    "## Load Data"
   ]
  },
  {
   "cell_type": "code",
   "execution_count": null,
   "metadata": {
    "scrolled": true
   },
   "outputs": [],
   "source": [
    "key = data.get_output_keys()[2]\n",
    "key"
   ]
  },
  {
   "cell_type": "code",
   "execution_count": null,
   "metadata": {},
   "outputs": [],
   "source": [
    "output = data.load_output(key)\n",
    "qf = torch.Tensor(output[\"qf\"])\n",
    "gf = torch.Tensor(output[\"gf\"])\n",
    "q_pids = np.array(output[\"q_pids\"])\n",
    "g_pids = np.array(output[\"g_pids\"])\n",
    "q_camids = np.array(output[\"q_camids\"])\n",
    "g_camids = np.array(output[\"g_camids\"])\n",
    "distmat = compute_distmat(qf, gf)"
   ]
  },
  {
   "cell_type": "markdown",
   "metadata": {},
   "source": [
    "### Baseline Results"
   ]
  },
  {
   "cell_type": "code",
   "execution_count": null,
   "metadata": {},
   "outputs": [],
   "source": [
    "result = evaluate(distmat, q_pids, g_pids, q_camids, g_camids)\n",
    "result"
   ]
  },
  {
   "cell_type": "markdown",
   "metadata": {},
   "source": [
    "### Re-ranked Results"
   ]
  },
  {
   "cell_type": "code",
   "execution_count": null,
   "metadata": {
    "scrolled": false
   },
   "outputs": [],
   "source": [
    "all_distmat = compute_inner_distmat(torch.cat((qf, gf)))\n",
    "re_distmat = rerank_distmat(all_distmat, qf.shape[0])\n",
    "re_result = evaluate(re_distmat, q_pids, g_pids, q_camids, g_camids)\n",
    "re_result"
   ]
  },
  {
   "cell_type": "markdown",
   "metadata": {},
   "source": [
    "## One-Shot Evaluation Using Modules"
   ]
  },
  {
   "cell_type": "markdown",
   "metadata": {},
   "source": [
    "### Rocchio"
   ]
  },
  {
   "cell_type": "code",
   "execution_count": null,
   "metadata": {
    "scrolled": false
   },
   "outputs": [],
   "source": [
    "ntot = torch.as_tensor\n",
    "rocchio.run(qf, gf, ntot(q_pids), ntot(g_pids), ntot(q_camids), ntot(g_camids), t=3)"
   ]
  },
  {
   "cell_type": "markdown",
   "metadata": {},
   "source": [
    "### Neighborhood Expansion (Min)"
   ]
  },
  {
   "cell_type": "code",
   "execution_count": null,
   "metadata": {
    "scrolled": false
   },
   "outputs": [],
   "source": [
    "ntot = torch.from_numpy\n",
    "ne.run(qf, gf, ntot(q_pids), ntot(g_pids), ntot(q_camids), ntot(g_camids), t=3, method=\"min\")"
   ]
  },
  {
   "cell_type": "markdown",
   "metadata": {},
   "source": [
    "### Neighborhood Expansion (Mean)"
   ]
  },
  {
   "cell_type": "code",
   "execution_count": null,
   "metadata": {},
   "outputs": [],
   "source": [
    "ntot = torch.from_numpy\n",
    "ne.run(qf, gf, ntot(q_pids), ntot(g_pids), ntot(q_camids), ntot(g_camids), t=3, method=\"mean\")"
   ]
  },
  {
   "cell_type": "markdown",
   "metadata": {},
   "source": [
    "## Development"
   ]
  },
  {
   "cell_type": "markdown",
   "metadata": {},
   "source": [
    "## Feedback Models"
   ]
  },
  {
   "cell_type": "code",
   "execution_count": null,
   "metadata": {},
   "outputs": [],
   "source": [
    "q_pids = torch.tensor(output[\"q_pids\"])\n",
    "g_pids = torch.tensor(output[\"g_pids\"])\n",
    "q = len(q_pids)\n",
    "g = len(g_pids)\n",
    "m = qf.shape[1]\n",
    "q_camids = np.array(output[\"q_camids\"])\n",
    "g_camids = np.array(output[\"g_camids\"])"
   ]
  },
  {
   "cell_type": "markdown",
   "metadata": {},
   "source": [
    "### Naive Feedback"
   ]
  },
  {
   "cell_type": "code",
   "execution_count": null,
   "metadata": {
    "scrolled": true
   },
   "outputs": [],
   "source": [
    "if input(\"reset? \") == \"y\":\n",
    "    positive_indices = torch.zeros((q, g), dtype=bool)\n",
    "    negative_indices = torch.zeros((q, g), dtype=bool)"
   ]
  },
  {
   "cell_type": "code",
   "execution_count": null,
   "metadata": {},
   "outputs": [],
   "source": [
    "for i in tqdm(range(5)):\n",
    "    qf_adjusted = qf  # no adjust, naive re-rank\n",
    "\n",
    "    distmat = compute_distmat(qf_adjusted, gf)\n",
    "    distmat[positive_indices] = float(\"inf\")\n",
    "    distmat[negative_indices] = float(\"inf\")\n",
    "\n",
    "    # Select feedback (top-1 from remaining gallery instances)\n",
    "    distances, indices = distmat.min(dim=1)\n",
    "    assert(tuple(distances.shape) == (q,))\n",
    "    assert(tuple(indices.shape) == (q,))\n",
    "\n",
    "    pmap = g_pids[indices] == q_pids\n",
    "    positive_q = torch.arange(0, q)[pmap]\n",
    "    negative_q = torch.arange(0, q)[pmap == False]\n",
    "    positive_g = indices[pmap]\n",
    "    negative_g = indices[pmap== False]\n",
    "\n",
    "    existing = positive_indices[positive_q, positive_g]\n",
    "    assert(not existing.any())\n",
    "    positive_indices[positive_q, positive_g] = True\n",
    "    existing = negative_indices[negative_q, negative_g]\n",
    "    assert(not existing.any())\n",
    "    negative_indices[negative_q, negative_g] = True"
   ]
  },
  {
   "cell_type": "code",
   "execution_count": null,
   "metadata": {
    "scrolled": false
   },
   "outputs": [],
   "source": [
    "distmat = compute_distmat(qf_adjusted, gf)\n",
    "distmat[positive_indices] = 0\n",
    "distmat[negative_indices] = float(\"inf\")\n",
    "naive_new_result = evaluate(distmat.numpy(), q_pids, g_pids, q_camids, g_camids)\n",
    "naive_new_result"
   ]
  },
  {
   "cell_type": "markdown",
   "metadata": {},
   "source": [
    "### Rocchio"
   ]
  },
  {
   "cell_type": "code",
   "execution_count": null,
   "metadata": {
    "scrolled": true
   },
   "outputs": [],
   "source": [
    "if input(\"reset? \") == \"y\":\n",
    "    positive_indices = torch.zeros((q, g), dtype=bool)\n",
    "    negative_indices = torch.zeros((q, g), dtype=bool)"
   ]
  },
  {
   "cell_type": "code",
   "execution_count": null,
   "metadata": {},
   "outputs": [],
   "source": [
    "alpha = 1\n",
    "beta = 0.65\n",
    "gamma = 0.35\n",
    "qf_adjusted = qf\n",
    "\n",
    "for i in tqdm(range(5)):\n",
    "    distmat = compute_distmat(qf_adjusted, gf)\n",
    "    distmat[positive_indices] = float(\"inf\")\n",
    "    distmat[negative_indices] = float(\"inf\")\n",
    "\n",
    "    # Select feedback (top-1 from remaining gallery instances)\n",
    "    distances, indices = distmat.min(dim=1)\n",
    "    assert(tuple(distances.shape) == (q,))\n",
    "    assert(tuple(indices.shape) == (q,))\n",
    "\n",
    "    # Apply feedback\n",
    "    pmap = g_pids[indices] == q_pids\n",
    "    positive_q = torch.arange(0, q)[pmap]\n",
    "    negative_q = torch.arange(0, q)[pmap == False]\n",
    "    positive_g = indices[pmap]\n",
    "    negative_g = indices[pmap== False]\n",
    "\n",
    "    existing = positive_indices[positive_q, positive_g]\n",
    "    assert(not existing.any())\n",
    "    positive_indices[positive_q, positive_g] = True\n",
    "    existing = negative_indices[negative_q, negative_g]\n",
    "    assert(not existing.any())\n",
    "    negative_indices[negative_q, negative_g] = True\n",
    "    \n",
    "    # Compute new query\n",
    "    mean_positive_gf = positive_indices.float().mm(gf) / positive_indices.float().sum(dim=1, keepdim=True)\n",
    "    mean_negative_gf = negative_indices.float().mm(gf) / negative_indices.float().sum(dim=1, keepdim=True)\n",
    "    mean_positive_gf[mean_positive_gf.isnan()] = 0\n",
    "    mean_negative_gf[mean_negative_gf.isnan()] = 0\n",
    "    qf_adjusted = qf * alpha + mean_positive_gf * beta - mean_negative_gf * gamma"
   ]
  },
  {
   "cell_type": "code",
   "execution_count": null,
   "metadata": {
    "scrolled": true
   },
   "outputs": [],
   "source": [
    "distmat = compute_distmat(qf_adjusted, gf)\n",
    "distmat[positive_indices] = 0\n",
    "distmat[negative_indices] = float(\"inf\")\n",
    "new_result = evaluate(distmat.numpy(), q_pids, g_pids, q_camids, g_camids)\n",
    "new_result"
   ]
  },
  {
   "cell_type": "markdown",
   "metadata": {},
   "source": [
    "### Function Tests (Rocchio)"
   ]
  },
  {
   "cell_type": "code",
   "execution_count": null,
   "metadata": {},
   "outputs": [],
   "source": [
    "def adjust_qf(qf, gf, positive_indices, negative_indices, alpha=1, beta=0.65, gamma=0.35):\n",
    "    assert(qf.shape[1] == gf.shape[1])\n",
    "    mean_positive_gf = positive_indices.float().mm(gf) / positive_indices.float().sum(dim=1, keepdim=True)\n",
    "    mean_negative_gf = negative_indices.float().mm(gf) / negative_indices.float().sum(dim=1, keepdim=True)\n",
    "    mean_positive_gf[mean_positive_gf.isnan()] = 0\n",
    "    mean_negative_gf[mean_negative_gf.isnan()] = 0\n",
    "    qf_adjusted = qf * alpha + mean_positive_gf * beta - mean_negative_gf * gamma\n",
    "    return qf_adjusted"
   ]
  },
  {
   "cell_type": "code",
   "execution_count": null,
   "metadata": {},
   "outputs": [],
   "source": [
    "def update_feedback_indices(distmat, q_pids, g_pids, positive_indices, negative_indices, inplace=True):\n",
    "    \"\"\"\n",
    "    Note that distmat is corrupted if inplace=True.\n",
    "    \n",
    "    distmat: q x g Tensor (adjusted query to gallery)\n",
    "    q_pids: q\n",
    "    g_pids: g\n",
    "    positive_indices: q x g\n",
    "    negative_indices: q x g\n",
    "    \n",
    "    :Returns:\n",
    "        positive_indices, negative_indices\n",
    "    \"\"\"\n",
    "    q, g = tuple(distmat.shape)\n",
    "    \n",
    "    if not inplace:\n",
    "        distmat = distmat.clone().detach()\n",
    "        positive_indices = positive_indices.copy()\n",
    "        negative_indices = negative_indices.copy()\n",
    "        \n",
    "    distmat[positive_indices] = float(\"inf\")\n",
    "    distmat[negative_indices] = float(\"inf\")\n",
    "        \n",
    "    indices = distmat.argmin(dim=1)\n",
    "    pmap = g_pids[indices] == q_pids\n",
    "    positive_q = torch.arange(0, q)[pmap]\n",
    "    negative_q = torch.arange(0, q)[pmap == False]\n",
    "    positive_g = indices[pmap]\n",
    "    negative_g = indices[pmap== False]\n",
    "\n",
    "    existing = positive_indices[positive_q, positive_g]\n",
    "    assert(not existing.any())\n",
    "    positive_indices[positive_q, positive_g] = True\n",
    "    existing = negative_indices[negative_q, negative_g]\n",
    "    assert(not existing.any())\n",
    "    negative_indices[negative_q, negative_g] = True\n",
    "    \n",
    "    return positive_indices, negative_indices"
   ]
  },
  {
   "cell_type": "code",
   "execution_count": null,
   "metadata": {},
   "outputs": [],
   "source": [
    "def init_feedback_indices(q, g):\n",
    "    return torch.zeros((q, g), dtype=bool)"
   ]
  },
  {
   "cell_type": "code",
   "execution_count": null,
   "metadata": {},
   "outputs": [],
   "source": [
    "def update_distmat(qf, gf, q_pids, g_pids, positive_indices=None, negative_indices=None,\n",
    "                   inplace=True, previous_distmat=None, alpha=1, beta=0.65, gamma=0.35):\n",
    "    \"\"\"\n",
    "    previous_distmat: adjusted distmat (!= compute_distmat(qf, gf))\n",
    "    \"\"\"\n",
    "    q, g = qf.shape[0], gf.shape[0]\n",
    "    assert(qf.shape[1] == gf.shape[1])\n",
    "    \n",
    "    if positive_indices is None:\n",
    "        positive_indices = init_feedback_indices(q, g)\n",
    "    if negative_indices is None:\n",
    "        negative_indices = init_feedback_indices(q, g)\n",
    "\n",
    "    distmat = previous_distmat \n",
    "    if distmat is None:\n",
    "        qf_adjusted = adjust_qf(qf, gf, positive_indices, negative_indices)\n",
    "        distmat = compute_distmat(qf_adjusted, gf)\n",
    "\n",
    "    positive_indices, negative_indices = update_feedback_indices(\n",
    "        distmat, q_pids, g_pids, positive_indices, negative_indices, inplace=inplace)\n",
    "    \n",
    "    qf_adjusted = adjust_qf(qf, gf, positive_indices, negative_indices, alpha=alpha, beta=beta, gamma=gamma)\n",
    "    distmat = compute_distmat(qf_adjusted, gf)\n",
    "    \n",
    "    return distmat, positive_indices, negative_indices"
   ]
  },
  {
   "cell_type": "code",
   "execution_count": null,
   "metadata": {
    "scrolled": true
   },
   "outputs": [],
   "source": [
    "positive_indices = None\n",
    "negative_indices = None\n",
    "distmat = None\n",
    "for i in tqdm(range(5)):\n",
    "    distmat, positive_indices, negative_indices = update_distmat(\n",
    "        qf, gf, q_pids, g_pids, positive_indices, negative_indices, previous_distmat=distmat)\n",
    "    "
   ]
  },
  {
   "cell_type": "code",
   "execution_count": null,
   "metadata": {},
   "outputs": [],
   "source": [
    "distmat[positive_indices] = 0\n",
    "distmat[negative_indices] = float(\"inf\")\n",
    "new_result = evaluate(distmat, q_pids, g_pids, q_camids, g_camids)\n",
    "new_result"
   ]
  },
  {
   "cell_type": "markdown",
   "metadata": {},
   "source": [
    "### Module Test (Naive)"
   ]
  },
  {
   "cell_type": "code",
   "execution_count": null,
   "metadata": {
    "scrolled": false
   },
   "outputs": [],
   "source": [
    "positive_indices = None\n",
    "negative_indices = None\n",
    "distmat = None\n",
    "for i in tqdm(range(3)):\n",
    "    distmat, positive_indices, negative_indices = feedback.naive_round(\n",
    "        qf, gf, q_pids, g_pids, positive_indices, negative_indices, previous_distmat=distmat)\n",
    "naive_result = evaluate(distmat, q_pids, g_pids, q_camids, g_camids)\n",
    "naive_result"
   ]
  },
  {
   "cell_type": "markdown",
   "metadata": {},
   "source": [
    "### Module Test (Rocchio)"
   ]
  },
  {
   "cell_type": "code",
   "execution_count": null,
   "metadata": {
    "scrolled": true
   },
   "outputs": [],
   "source": [
    "positive_indices = None\n",
    "negative_indices = None\n",
    "distmat = None\n",
    "for i in tqdm(range(3)):\n",
    "    distmat, positive_indices, negative_indices = rocchio.rocchio_round(\n",
    "        qf, gf, q_pids, g_pids, positive_indices, negative_indices, previous_distmat=distmat)\n",
    "rocchio_result = evaluate(distmat, q_pids, g_pids, q_camids, g_camids)\n",
    "rocchio_result"
   ]
  },
  {
   "cell_type": "markdown",
   "metadata": {},
   "source": [
    "### Single Feedback Rocchio (Old)\n",
    "Initial implementation test"
   ]
  },
  {
   "cell_type": "code",
   "execution_count": null,
   "metadata": {},
   "outputs": [],
   "source": [
    "g_pids = torch.Tensor(output[\"g_pids\"])\n",
    "q_pids = torch.Tensor(output[\"q_pids\"])\n",
    "match = g_pids[min_indices] == q_pids"
   ]
  },
  {
   "cell_type": "code",
   "execution_count": null,
   "metadata": {
    "scrolled": true
   },
   "outputs": [],
   "source": [
    "selected_gf = gf[min_indices]\n",
    "selected_gf.shape"
   ]
  },
  {
   "cell_type": "code",
   "execution_count": null,
   "metadata": {
    "scrolled": true
   },
   "outputs": [],
   "source": [
    "weights = match.float() * (beta + gamma) - gamma"
   ]
  },
  {
   "cell_type": "code",
   "execution_count": null,
   "metadata": {},
   "outputs": [],
   "source": [
    "weighted_feedback = selected_gf * weights.reshape(-1, 1)"
   ]
  },
  {
   "cell_type": "code",
   "execution_count": null,
   "metadata": {},
   "outputs": [],
   "source": [
    "weighted_feedback"
   ]
  },
  {
   "cell_type": "code",
   "execution_count": null,
   "metadata": {
    "scrolled": true
   },
   "outputs": [],
   "source": [
    "inverse_weights = 1 - weights"
   ]
  },
  {
   "cell_type": "code",
   "execution_count": null,
   "metadata": {},
   "outputs": [],
   "source": [
    "new_qf = qf * inverse_weights.reshape(-1, 1) + weighted_feedback"
   ]
  },
  {
   "cell_type": "code",
   "execution_count": null,
   "metadata": {},
   "outputs": [],
   "source": [
    "new_distmat = compute_distmat(new_qf, gf)"
   ]
  },
  {
   "cell_type": "code",
   "execution_count": null,
   "metadata": {
    "scrolled": false
   },
   "outputs": [],
   "source": [
    "new_result = evaluate(new_distmat.numpy(), q_pids, g_pids, np.array(output[\"q_camids\"]), np.array(output[\"g_camids\"]), test_ratio=0.1)\n",
    "new_result"
   ]
  }
 ],
 "metadata": {
  "kernelspec": {
   "display_name": "Python 3",
   "language": "python",
   "name": "python3"
  },
  "language_info": {
   "codemirror_mode": {
    "name": "ipython",
    "version": 3
   },
   "file_extension": ".py",
   "mimetype": "text/x-python",
   "name": "python",
   "nbconvert_exporter": "python",
   "pygments_lexer": "ipython3",
   "version": "3.7.3"
  }
 },
 "nbformat": 4,
 "nbformat_minor": 4
}
