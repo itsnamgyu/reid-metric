{
 "cells": [
  {
   "cell_type": "code",
   "execution_count": null,
   "metadata": {},
   "outputs": [],
   "source": [
    "import data\n",
    "import torch\n",
    "from utils.distmat import *\n",
    "from utils.evaluation import *\n",
    "from hitl import *\n",
    "import numpy as np\n",
    "import matplotlib.pyplot as plt"
   ]
  },
  {
   "cell_type": "markdown",
   "metadata": {},
   "source": [
    "## Load Data"
   ]
  },
  {
   "cell_type": "code",
   "execution_count": null,
   "metadata": {},
   "outputs": [],
   "source": [
    "output = data.load_output(key)\n",
    "qf = np.array(output[\"qf\"])\n",
    "gf = np.array(output[\"gf\"])\n",
    "q_pids = np.array(output[\"q_pids\"])\n",
    "g_pids = np.array(output[\"g_pids\"])\n",
    "q_camids = np.array(output[\"q_camids\"])\n",
    "g_camids = np.array(output[\"g_camids\"])\n",
    "distmat = compute_distmat(torch.as_tensor(qf), torch.as_tensor(gf))"
   ]
  },
  {
   "cell_type": "code",
   "execution_count": null,
   "metadata": {},
   "outputs": [],
   "source": [
    "indices = distmat.argsort()\n",
    "matches = g_pids[indices] == q_pids.reshape(-1 ,1)\n",
    "matches = torch.as_tensor(matches)\n",
    "last_ranks = (torch.arange(15913) * matches.float()).argmax(dim=1)\n",
    "lr = last_ranks.numpy()\n",
    "print(sorted(lr))"
   ]
  },
  {
   "cell_type": "code",
   "execution_count": null,
   "metadata": {},
   "outputs": [],
   "source": [
    "distmat"
   ]
  },
  {
   "cell_type": "code",
   "execution_count": null,
   "metadata": {},
   "outputs": [],
   "source": [
    "indices = distmat.argsort()\n",
    "matches = g_pids[indices] == q_pids.reshape(-1 ,1)\n",
    "matches = torch.as_tensor(matches)\n",
    "last_ranks = (torch.arange(15913) * matches.float()).argmax(dim=1)\n",
    "rlr = last_ranks.numpy()\n",
    "print(sorted(rlr))"
   ]
  }
 ],
 "metadata": {
  "kernelspec": {
   "display_name": "Python 3",
   "language": "python",
   "name": "python3"
  },
  "language_info": {
   "codemirror_mode": {
    "name": "ipython",
    "version": 3
   },
   "file_extension": ".py",
   "mimetype": "text/x-python",
   "name": "python",
   "nbconvert_exporter": "python",
   "pygments_lexer": "ipython3",
   "version": "3.7.3"
  }
 },
 "nbformat": 4,
 "nbformat_minor": 4
}
