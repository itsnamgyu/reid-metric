{
 "cells": [
  {
   "cell_type": "code",
   "execution_count": null,
   "metadata": {},
   "outputs": [],
   "source": [
    "import data\n",
    "import torch\n",
    "from utils.distmat import *\n",
    "from utils.evaluation import *\n",
    "from hitl import *\n",
    "import numpy as np\n",
    "import matplotlib.pyplot as plt"
   ]
  },
  {
   "cell_type": "markdown",
   "metadata": {},
   "source": [
    "## Load Data"
   ]
  },
  {
   "cell_type": "code",
   "execution_count": null,
   "metadata": {
    "scrolled": true
   },
   "outputs": [],
   "source": [
    "key = data.get_output_keys()[4]\n",
    "key"
   ]
  },
  {
   "cell_type": "code",
   "execution_count": null,
   "metadata": {},
   "outputs": [],
   "source": [
    "output = data.load_output(key)\n",
    "qf = torch.Tensor(output[\"qf\"])\n",
    "gf = torch.Tensor(output[\"gf\"])\n",
    "q_pids = np.array(output[\"q_pids\"])\n",
    "g_pids = np.array(output[\"g_pids\"])\n",
    "q_camids = np.array(output[\"q_camids\"])\n",
    "g_camids = np.array(output[\"g_camids\"])\n",
    "distmat = compute_distmat(qf, gf)\n",
    "q, g = qf.shape[0], gf.shape[0]\n",
    "q, g"
   ]
  },
  {
   "cell_type": "code",
   "execution_count": null,
   "metadata": {},
   "outputs": [],
   "source": [
    "device = 0\n",
    "cuda = lambda t: torch.as_tensor(t).cuda(0)"
   ]
  },
  {
   "cell_type": "markdown",
   "metadata": {},
   "source": [
    "### Baseline Results"
   ]
  },
  {
   "cell_type": "code",
   "execution_count": null,
   "metadata": {
    "scrolled": false
   },
   "outputs": [],
   "source": [
    "result = evaluate(cuda(distmat), cuda(q_pids), cuda(g_pids), cuda(q_camids), cuda(g_camids), device=device)\n",
    "result"
   ]
  },
  {
   "cell_type": "markdown",
   "metadata": {},
   "source": [
    "### Re-ranked Results"
   ]
  },
  {
   "cell_type": "code",
   "execution_count": null,
   "metadata": {
    "scrolled": false
   },
   "outputs": [],
   "source": [
    "all_distmat = compute_inner_distmat(torch.cat((qf, gf)))\n",
    "re_distmat = rerank_distmat(all_distmat, qf.shape[0])\n",
    "re_result = evaluate(re_distmat, q_pids, g_pids, q_camids, g_camids)\n",
    "re_result"
   ]
  },
  {
   "cell_type": "markdown",
   "metadata": {},
   "source": [
    "## To CUDA"
   ]
  },
  {
   "cell_type": "code",
   "execution_count": null,
   "metadata": {},
   "outputs": [],
   "source": [
    "qf = cuda(qf)\n",
    "gf = cuda(gf)\n",
    "q_pids = cuda(q_pids)\n",
    "g_pids = cuda(g_pids)\n",
    "q_camids = cuda(q_camids)\n",
    "g_camids = cuda(g_camids)"
   ]
  },
  {
   "cell_type": "markdown",
   "metadata": {},
   "source": [
    "## One-Shot Evaluation Using Modules"
   ]
  },
  {
   "cell_type": "markdown",
   "metadata": {},
   "source": [
    "### Rocchio"
   ]
  },
  {
   "cell_type": "code",
   "execution_count": null,
   "metadata": {
    "scrolled": true
   },
   "outputs": [],
   "source": [
    "dm = rocchio.run(qf, gf, q_pids, g_pids, q_camids, g_camids, t=100, device=0)\n",
    "rocchio_distmat = dm.cpu().numpy()\n",
    "del dm"
   ]
  },
  {
   "cell_type": "markdown",
   "metadata": {},
   "source": [
    "### Neighborhood Expansion (Min)"
   ]
  },
  {
   "cell_type": "code",
   "execution_count": null,
   "metadata": {
    "scrolled": true
   },
   "outputs": [],
   "source": [
    "dm = ne.run(qf, gf, q_pids, g_pids, q_camids, g_camids, t=100, method=\"min\", device=0)\n",
    "ne_min_distmat = dm.cpu().numpy()\n",
    "del dm"
   ]
  },
  {
   "cell_type": "markdown",
   "metadata": {},
   "source": [
    "### Neighborhood Expansion (Mean)"
   ]
  },
  {
   "cell_type": "code",
   "execution_count": null,
   "metadata": {
    "scrolled": false
   },
   "outputs": [],
   "source": [
    "dm = ne.run(qf, gf, q_pids, g_pids, q_camids, g_camids, t=100, method=\"mean\", device=0)\n",
    "ne_mean_distmat = dm.cpu().numpy()\n",
    "del dm"
   ]
  },
  {
   "cell_type": "markdown",
   "metadata": {},
   "source": [
    "### Neighborhood Expansion (Max)"
   ]
  },
  {
   "cell_type": "code",
   "execution_count": null,
   "metadata": {
    "scrolled": true
   },
   "outputs": [],
   "source": [
    "dm = ne.run(qf, gf, q_pids, g_pids, q_camids, g_camids, t=100, method=\"max\", device=0)\n",
    "ne_max_distmat = dm.cpu().numpy()\n",
    "del dm"
   ]
  }
 ],
 "metadata": {
  "kernelspec": {
   "display_name": "Python 3",
   "language": "python",
   "name": "python3"
  },
  "language_info": {
   "codemirror_mode": {
    "name": "ipython",
    "version": 3
   },
   "file_extension": ".py",
   "mimetype": "text/x-python",
   "name": "python",
   "nbconvert_exporter": "python",
   "pygments_lexer": "ipython3",
   "version": "3.6.9"
  }
 },
 "nbformat": 4,
 "nbformat_minor": 4
}
