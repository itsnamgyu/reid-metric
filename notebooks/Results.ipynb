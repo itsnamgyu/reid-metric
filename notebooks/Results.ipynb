{
 "cells": [
  {
   "cell_type": "code",
   "execution_count": null,
   "metadata": {},
   "outputs": [],
   "source": [
    "import os\n",
    "import glob\n",
    "import data\n",
    "import numpy as np\n",
    "import torch\n",
    "import re\n",
    "import pandas as pd\n",
    "import matplotlib as mpl\n",
    "import matplotlib.pyplot as plt\n",
    "from tqdm import tqdm \n",
    "from utils.distmat import *\n",
    "from utils.evaluation import *\n",
    "from hitl import *"
   ]
  },
  {
   "cell_type": "code",
   "execution_count": null,
   "metadata": {
    "scrolled": false
   },
   "outputs": [],
   "source": [
    "paths = glob.glob(\"match_matrix/*.npy\")\n",
    "paths"
   ]
  },
  {
   "cell_type": "code",
   "execution_count": null,
   "metadata": {
    "scrolled": false
   },
   "outputs": [],
   "source": [
    "path = paths[0]\n",
    "matches = np.load(path)\n",
    "matches = torch.as_tensor(matches)\n",
    "matches.shape"
   ]
  },
  {
   "cell_type": "code",
   "execution_count": null,
   "metadata": {},
   "outputs": [],
   "source": [
    "match = re_path.match(path)\n",
    "match.group(1)"
   ]
  },
  {
   "cell_type": "code",
   "execution_count": null,
   "metadata": {},
   "outputs": [],
   "source": [
    "re_path = re.compile(\".*(bot_[a-z]*_basic)_([a-z\\_]+).npy\")\n",
    "match = re_path.match(path)\n",
    "key = match.group(1)\n",
    "method = match.group(2)"
   ]
  },
  {
   "cell_type": "code",
   "execution_count": null,
   "metadata": {},
   "outputs": [],
   "source": [
    "def get_results(path, key):\n",
    "    output = data.load_output(key)\n",
    "    qf = np.array(output[\"qf\"])\n",
    "    gf = np.array(output[\"gf\"])\n",
    "    q_pids = np.array(output[\"q_pids\"])\n",
    "    g_pids = np.array(output[\"g_pids\"])\n",
    "    q_camids = np.array(output[\"q_camids\"])\n",
    "    g_camids = np.array(output[\"g_camids\"])\n",
    "    \n",
    "    max_rank = 50\n",
    "    device = None\n",
    "    q, g = len(q_pids), len(g_pids)\n",
    "    keep = torch.ones(q, g, dtype=bool)\n",
    "    kept = keep.cumsum(dim=1)\n",
    "    \n",
    "    matches = np.load(path)\n",
    "    matches = torch.as_tensor(matches)\n",
    "    matches.shape\n",
    "\n",
    "    valid_matches = matches * keep\n",
    "    valid_query = (valid_matches.sum(dim=1) > 0)  # at least one matchable (== matched) gallery image\n",
    "    assert (valid_matches.sum() != 0)  # error: all query identities do not appear in gallery\n",
    "\n",
    "    final_rank_positions = (valid_matches * torch.arange(1, g + 1, device=device)).argmax(dim=1)\n",
    "    final_rank_valid = kept[torch.arange(q, device=device), final_rank_positions]\n",
    "    all_INP = valid_matches.sum(dim=1).float() / final_rank_valid.float()\n",
    "\n",
    "    # `kept` is analogous to index within only-valid instances\n",
    "    cum_precision = valid_matches.cumsum(dim=1).float() / kept.float()\n",
    "    cum_precision[cum_precision.isnan()] = 1\n",
    "    all_AP = (cum_precision * valid_matches).sum(dim=1) / valid_matches.sum(dim=1)\n",
    "\n",
    "    # Compute CMC (need to go query-by-query) (assume that at least 10% are valid)\n",
    "    buffer = 10\n",
    "    keep = keep[:, :max_rank * buffer]\n",
    "    matches = matches[:, :max_rank * buffer]\n",
    "    all_cmc = []\n",
    "    for i in range(q):\n",
    "        mc = matches[i][keep[i]][:50]\n",
    "        if len(mc) < max_rank:\n",
    "            raise AssertionError(\"Not enough matching galleries. Consider higher `buffer` value.\")\n",
    "        cmc = mc[:max_rank].cumsum(dim=0)\n",
    "        # E.g., 0 1 x x x x ... to 0 1 1 1 1 1 ...\n",
    "        cmc[cmc > 1] = 1\n",
    "        all_cmc.append(cmc)\n",
    "\n",
    "    all_cmc = torch.stack(all_cmc).float()\n",
    "    all_cmc = all_cmc.sum(dim=0) / valid_query.float().sum()\n",
    "\n",
    "    mAP = all_AP[valid_query].mean()\n",
    "    mINP = all_INP[valid_query].mean()\n",
    "\n",
    "    matches_by_rank = valid_matches.int().sum(dim=0)\n",
    "    cum_matches = matches_by_rank.cumsum(dim=0)\n",
    "    total = torch.arange(1, g + 1).float() * q\n",
    "    recall = cum_matches.float() / matches_by_rank.float().sum()\n",
    "    precision = cum_matches.float() / total.float()\n",
    "    \n",
    "    return mAP, mINP, recall, precision, matches_by_rank.sum()"
   ]
  },
  {
   "cell_type": "code",
   "execution_count": null,
   "metadata": {},
   "outputs": [],
   "source": [
    "def get_baseline_results(key, rerank=False):\n",
    "    output = data.load_output(key)\n",
    "    qf = np.array(output[\"qf\"])\n",
    "    gf = np.array(output[\"gf\"])\n",
    "    q_pids = np.array(output[\"q_pids\"])\n",
    "    g_pids = np.array(output[\"g_pids\"])\n",
    "    q_camids = np.array(output[\"q_camids\"])\n",
    "    g_camids = np.array(output[\"g_camids\"])\n",
    "    q, g = len(q_pids), len(g_pids)\n",
    "    \n",
    "    if rerank:\n",
    "        distmat_all = compute_inner_distmat(torch.cat([torch.as_tensor(qf), torch.as_tensor(gf)], dim=0))\n",
    "        distmat = rerank_distmat(distmat_all, q)\n",
    "    else:\n",
    "        distmat = compute_distmat(torch.as_tensor(qf), torch.as_tensor(gf))\n",
    "\n",
    "    indices = distmat.argsort()\n",
    "    matches = (g_pids[indices] == q_pids.reshape(-1, 1))\n",
    "    matches = torch.as_tensor(matches)\n",
    "\n",
    "    max_rank = 50\n",
    "    device = None\n",
    "    keep = torch.ones(q, g, dtype=bool)\n",
    "    kept = keep.cumsum(dim=1)\n",
    "\n",
    "    valid_matches = matches * keep\n",
    "    valid_query = (valid_matches.sum(dim=1) > 0)  # at least one matchable (== matched) gallery image\n",
    "    assert (valid_matches.sum() != 0)  # error: all query identities do not appear in gallery\n",
    "\n",
    "    final_rank_positions = (valid_matches * torch.arange(1, g + 1, device=device)).argmax(dim=1)\n",
    "    final_rank_valid = kept[torch.arange(q, device=device), final_rank_positions]\n",
    "    all_INP = valid_matches.sum(dim=1).float() / final_rank_valid.float()\n",
    "\n",
    "    # `kept` is analogous to index within only-valid instances\n",
    "    cum_precision = valid_matches.cumsum(dim=1).float() / kept.float()\n",
    "    cum_precision[cum_precision.isnan()] = 1\n",
    "    all_AP = (cum_precision * valid_matches).sum(dim=1) / valid_matches.sum(dim=1)\n",
    "\n",
    "    # Compute CMC (need to go query-by-query) (assume that at least 10% are valid)\n",
    "    buffer = 10\n",
    "    keep = keep[:, :max_rank * buffer]\n",
    "    matches = matches[:, :max_rank * buffer]\n",
    "    all_cmc = []\n",
    "    for i in range(q):\n",
    "        mc = matches[i][keep[i]][:50]\n",
    "        if len(mc) < max_rank:\n",
    "            raise AssertionError(\"Not enough matching galleries. Consider higher `buffer` value.\")\n",
    "        cmc = mc[:max_rank].cumsum(dim=0)\n",
    "        # E.g., 0 1 x x x x ... to 0 1 1 1 1 1 ...\n",
    "        cmc[cmc > 1] = 1\n",
    "        all_cmc.append(cmc)\n",
    "\n",
    "    all_cmc = torch.stack(all_cmc).float()\n",
    "    all_cmc = all_cmc.sum(dim=0) / valid_query.float().sum()\n",
    "\n",
    "    mAP = all_AP[valid_query].mean()\n",
    "    mINP = all_INP[valid_query].mean()\n",
    "\n",
    "    matches_by_rank = valid_matches.int().sum(dim=0)\n",
    "    cum_matches = matches_by_rank.cumsum(dim=0)\n",
    "    total = torch.arange(1, g + 1).float() * q\n",
    "    recall = cum_matches.float() / matches_by_rank.float().sum()\n",
    "    precision = cum_matches.float() / total.float()\n",
    "    \n",
    "    return mAP, mINP, recall, precision, matches_by_rank.sum()"
   ]
  },
  {
   "cell_type": "code",
   "execution_count": null,
   "metadata": {},
   "outputs": [],
   "source": [
    "#scores = {}\n",
    "#pr = {}\n",
    "for path in tqdm(paths):\n",
    "    match = re_path.match(path)\n",
    "    key = match.group(1)\n",
    "    method = match.group(2)\n",
    "    record = \"{}_{}\".format(key, method)\n",
    "    mAP, mINP, recall, precision, matches = get_results(path, key)\n",
    "    scores[record] = {\n",
    "        \"mAP\": float(mAP),\n",
    "        \"mINP\": float(mINP),\n",
    "    }\n",
    "    print(key, method, matches)\n",
    "    pr[record] = (recall, precision)\n",
    "    fig = plt.figure(figsize=(8, 6))\n",
    "    fig.suptitle(\"ROC Curve [{}] [{}]\".format(key, method))\n",
    "    ax = fig.subplots()\n",
    "    ax.plot(recall, precision)\n",
    "    fig.savefig(\"Roc Curve [{}] [{}]\".format(key, method))"
   ]
  },
  {
   "cell_type": "code",
   "execution_count": null,
   "metadata": {
    "scrolled": true
   },
   "outputs": [],
   "source": [
    "for key in [\"bot_market_basic\", \"bot_duke_basic\"]:\n",
    "    method = \"baseline\"\n",
    "    record = \"{}_{}\".format(key, method)\n",
    "    mAP, mINP, recall, precision, matches = get_baseline_results(key, False)\n",
    "    scores[record] = {\n",
    "        \"mAP\": float(mAP),\n",
    "        \"mINP\": float(mINP),\n",
    "    }\n",
    "    pr[record] = (recall, precision)\n",
    "    print(key, method, matches)\n",
    "    fig = plt.figure(figsize=(8, 6))\n",
    "    fig.suptitle(\"ROC Curve [{}] [{}]\".format(key, method))\n",
    "    ax = fig.subplots()\n",
    "    ax.plot(recall, precision)\n",
    "    fig.savefig(\"Roc Curve [{}] [{}]\".format(key, method))\n",
    "    \n",
    "    method = \"baseline_rerank\"\n",
    "    record = \"{}_{}\".format(key, method)\n",
    "    mAP, mINP, recall, precision, matches = get_baseline_results(key, True)\n",
    "    scores[record] = {\n",
    "        \"mAP\": float(mAP),\n",
    "        \"mINP\": float(mINP),\n",
    "    }\n",
    "    pr[record] = (recall, precision)\n",
    "    print(key, method, matches)\n",
    "    fig = plt.figure(figsize=(8, 6))\n",
    "    fig.suptitle(\"ROC Curve [{}] [{}]\".format(key, method))\n",
    "    ax = fig.subplots()\n",
    "    ax.plot(recall, precision)\n",
    "    fig.savefig(\"Roc Curve [{}] [{}]\".format(key, method))"
   ]
  },
  {
   "cell_type": "code",
   "execution_count": null,
   "metadata": {
    "scrolled": true
   },
   "outputs": [],
   "source": [
    "list(pr.keys())"
   ]
  },
  {
   "cell_type": "code",
   "execution_count": null,
   "metadata": {
    "scrolled": true
   },
   "outputs": [],
   "source": [
    "pr[\"bot_duke_basic_baseline\"]"
   ]
  },
  {
   "cell_type": "code",
   "execution_count": null,
   "metadata": {
    "scrolled": true
   },
   "outputs": [],
   "source": [
    "pr[\"bot_duke_basic_ne_min\"]"
   ]
  },
  {
   "cell_type": "code",
   "execution_count": null,
   "metadata": {
    "scrolled": true
   },
   "outputs": [],
   "source": [
    "fig = plt.figure(figsize=(12, 10))\n",
    "fig.suptitle(\"ROC Curve [{}]\".format(\"market\"))\n",
    "ax = fig.subplots()\n",
    "re_key= re.compile(\"(bot_[a-z]*_basic)_([a-z\\_]+)\")\n",
    "lines = []\n",
    "methods = []\n",
    "for key, value in pr.items():\n",
    "    match = re_key.match(key)\n",
    "    dataset= match.group(1)\n",
    "    method = match.group(2)\n",
    "    if \"market\" in dataset:\n",
    "        print(dataset, method)\n",
    "        r, p = value\n",
    "        line = ax.plot(r, p, label=method)\n",
    "        lines.append(line)\n",
    "        methods.append(method)\n",
    "ax.legend()\n",
    "fig.savefig(\"Roc Curve [{}].jpg\".format(\"market\", method), dpi=320)"
   ]
  },
  {
   "cell_type": "code",
   "execution_count": null,
   "metadata": {},
   "outputs": [],
   "source": [
    "pr[\"\"]"
   ]
  },
  {
   "cell_type": "code",
   "execution_count": null,
   "metadata": {
    "scrolled": true
   },
   "outputs": [],
   "source": [
    "fig = plt.figure(figsize=(12, 10))\n",
    "fig.suptitle(\"ROC Curve [{}]\".format(\"duke\"))\n",
    "ax = fig.subplots()\n",
    "re_key= re.compile(\"(bot_[a-z]*_basic)_([a-z\\_]+)\")\n",
    "lines = []\n",
    "methods = []\n",
    "for key, value in pr.items():\n",
    "    match = re_key.match(key)\n",
    "    dataset= match.group(1)\n",
    "    method = match.group(2)\n",
    "    if \"duke\" in dataset:\n",
    "        print(dataset, method)\n",
    "        r, p = value\n",
    "        line = ax.plot(r, p, label=method)\n",
    "        lines.append(line)\n",
    "        methods.append(method)\n",
    "ax.legend()\n",
    "fig.savefig(\"Roc Curve [{}].jpg\".format(\"duke\", method), dpi=320)"
   ]
  },
  {
   "cell_type": "code",
   "execution_count": null,
   "metadata": {
    "scrolled": false
   },
   "outputs": [],
   "source": [
    "pr_dict = {}\n",
    "re_key= re.compile(\"(bot_[a-z]*_basic)_([a-z\\_]+)\")\n",
    "for key, val in pr.items():\n",
    "    if\n",
    "    match = re_key.match(key)\n",
    "    dataset= match.group(1)\n",
    "    method = match.group(2)\n",
    "    print(dataset, method)"
   ]
  },
  {
   "cell_type": "code",
   "execution_count": null,
   "metadata": {},
   "outputs": [],
   "source": [
    "df_scores = pd.DataFrame(scores).T\n",
    "df_scores = df_scores.sort_index()\n",
    "df_scores.to_csv(\"scores.csv\")\n",
    "df_scores"
   ]
  },
  {
   "cell_type": "code",
   "execution_count": null,
   "metadata": {},
   "outputs": [],
   "source": []
  }
 ],
 "metadata": {
  "kernelspec": {
   "display_name": "Python 3",
   "language": "python",
   "name": "python3"
  },
  "language_info": {
   "codemirror_mode": {
    "name": "ipython",
    "version": 3
   },
   "file_extension": ".py",
   "mimetype": "text/x-python",
   "name": "python",
   "nbconvert_exporter": "python",
   "pygments_lexer": "ipython3",
   "version": "3.7.3"
  }
 },
 "nbformat": 4,
 "nbformat_minor": 4
}
